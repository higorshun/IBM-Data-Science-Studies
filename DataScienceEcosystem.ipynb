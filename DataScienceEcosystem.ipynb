{
 "cells": [
  {
   "cell_type": "markdown",
   "id": "77125661-81c9-4b25-9ee7-3cc67fae6c68",
   "metadata": {},
   "source": [
    "# Data Science Tools and Ecosystem"
   ]
  },
  {
   "cell_type": "markdown",
   "id": "15b74a5b-1dda-4c54-ad8f-18b7d10d6d57",
   "metadata": {},
   "source": [
    "In this notebook, Data Science Tools and Ecosystem are summarized."
   ]
  },
  {
   "cell_type": "markdown",
   "id": "6c65387b-6135-4593-a6d6-5b7c66a72ea4",
   "metadata": {
    "tags": []
   },
   "source": [
    "**Objectives:**\n",
    "- Learn the main popular tools used by data scientists\n",
    "- Work on the first project on Jupyter notebook\n",
    "- Understand how theses tools can help data scientists\n"
   ]
  },
  {
   "cell_type": "markdown",
   "id": "c81d2e83-5a00-4b46-b7df-1055bc782087",
   "metadata": {},
   "source": [
    "Some of the popular languages that Data Scientists use are:\n",
    "<ol>\n",
    "    <li>Python</li>\n",
    "    <li>Java</li>\n",
    "    <li>C#</li>\n",
    "</ol>"
   ]
  },
  {
   "cell_type": "markdown",
   "id": "6ddfe573-ebc1-477a-909f-b4f81cfadd07",
   "metadata": {},
   "source": [
    "Some of the commonly used libraries used by Data Scientists include:\n",
    "    <ol>\n",
    "    <li>NumPy</li>\n",
    "    <li>Keras</li>\n",
    "    <li>Pandas</li>\n",
    "    </ol>"
   ]
  },
  {
   "cell_type": "markdown",
   "id": "506f9c09-a485-4b3f-bc2b-a6f9e658dae2",
   "metadata": {},
   "source": [
    "|Data Science Tools|\n",
    "|------------------|\n",
    "| Jupyter Notebooks|\n",
    "|     RStudio      |\n",
    "|   Visual Studio  |"
   ]
  },
  {
   "cell_type": "markdown",
   "id": "234e1b3d-3ed7-4916-b2c0-0c06ca45f622",
   "metadata": {},
   "source": [
    "### Below are a few examples of evaluating arithmetic expressions in Python"
   ]
  },
  {
   "cell_type": "code",
   "execution_count": 1,
   "id": "72357871-2881-4151-94e4-c7175fbe1ec8",
   "metadata": {
    "tags": []
   },
   "outputs": [
    {
     "data": {
      "text/plain": [
       "17"
      ]
     },
     "execution_count": 1,
     "metadata": {},
     "output_type": "execute_result"
    }
   ],
   "source": [
    "#This a simple arithmetic expression to mutiply then add integers\n",
    "(3*4)+5"
   ]
  },
  {
   "cell_type": "code",
   "execution_count": 14,
   "id": "ff725416-dd8e-4ca4-b3d1-4c93efcf94b4",
   "metadata": {
    "tags": []
   },
   "outputs": [
    {
     "name": "stdout",
     "output_type": "stream",
     "text": [
      "200 minutes means 3.3333333333333335 hours.\n"
     ]
    }
   ],
   "source": [
    "#This will convert 200 minutes to hours by dividing by 60\n",
    "result = 200/60\n",
    "print('200 minutes means ' + str(result) + ' hours.')"
   ]
  },
  {
   "cell_type": "markdown",
   "id": "182365cf-198d-413d-9103-99c92d3024b4",
   "metadata": {},
   "source": [
    "## Author\n",
    "Higor Shindy Kudo "
   ]
  },
  {
   "cell_type": "code",
   "execution_count": null,
   "id": "86a76764-4e58-4d8c-b003-4356a18656d5",
   "metadata": {},
   "outputs": [],
   "source": []
  }
 ],
 "metadata": {
  "kernelspec": {
   "display_name": "Python 3 (ipykernel)",
   "language": "python",
   "name": "python3"
  },
  "language_info": {
   "codemirror_mode": {
    "name": "ipython",
    "version": 3
   },
   "file_extension": ".py",
   "mimetype": "text/x-python",
   "name": "python",
   "nbconvert_exporter": "python",
   "pygments_lexer": "ipython3",
   "version": "3.11.5"
  }
 },
 "nbformat": 4,
 "nbformat_minor": 5
}
